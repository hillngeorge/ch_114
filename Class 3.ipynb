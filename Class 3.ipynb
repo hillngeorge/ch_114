{
 "cells": [
  {
   "cell_type": "code",
   "execution_count": 2,
   "id": "cba4bc2a-286c-44b5-afd3-884763cabdd7",
   "metadata": {},
   "outputs": [],
   "source": [
    "# Simplified implementation of Queue (using built-ins\n",
    "\n",
    "class Queue:\n",
    "    def __init__(self):\n",
    "        self.items = []\n",
    "\n",
    "def enqueue(self, value):\n",
    "    self.items.insert(0, value)\n",
    "\n",
    "def dequeue(self):\n",
    "    return self.items.pop()\n",
    "\n",
    "#nice to have methods\n",
    "def size(self):\n",
    "    return len(self.items)\n",
    "\n",
    "def peek(self):\n",
    "    return self.items[len(self.items)-1]\n",
    "\n",
    "def is_empty(self):\n",
    "    return self.items == []"
   ]
  },
  {
   "cell_type": "markdown",
   "id": "c3db4df4-7bab-4bd3-84dc-1a5ce86adfcc",
   "metadata": {},
   "source": [
    "# problem 1\n",
    "\n",
    "## create a \"from scratch implementation queue (queueII)\n",
    "\n",
    "### acceptance criteria\n",
    "1.built ins are not allowed no lists, or built in methods\n",
    "2. your enqueue method must have a worst case time complexity of 0(1) (constant)\n",
    "3. your dequeue method must have a worst case time complexity of 0(1) (constant)\n",
    "...\n",
    "how does the queue start? empty \n",
    "at what point will the queue end?\n",
    "will the queue end?\n",
    "how many items can be inserted at enqueue ata time? is there a limit to how many can be inserted?\n",
    "is there a limit to how many are removed from the dequeue at a time?\n",
    "is there a limit to the size of the queue as a whole?\n",
    "...\n",
    "\n",
    "# enqueue\n",
    "...\n",
    "check to see what itemis ready to be added into queue\n",
    "insert the item into the queue\n",
    "move back to the enqueue\n",
    "repeat proccess\n",
    "...\n",
    "# dequeue\n",
    "...\n",
    "check to see what items(s) are in the queue\n",
    "if items are\n",
    "\n",
    "\n",
    "..."
   ]
  },
  {
   "cell_type": "code",
   "execution_count": 5,
   "id": "1d13bbd3-f688-479e-9bac-d971767ff0e9",
   "metadata": {},
   "outputs": [
    {
     "ename": "SyntaxError",
     "evalue": "expected ':' (627477986.py, line 17)",
     "output_type": "error",
     "traceback": [
      "\u001b[0;36m  Cell \u001b[0;32mIn[5], line 17\u001b[0;36m\u001b[0m\n\u001b[0;31m    if self.head == False\u001b[0m\n\u001b[0m                         ^\u001b[0m\n\u001b[0;31mSyntaxError\u001b[0m\u001b[0;31m:\u001b[0m expected ':'\n"
     ]
    }
   ],
   "source": [
    "class Node:\n",
    "    def __init__(self, value):\n",
    "        self.value = value    # the value of the node\n",
    "        self.next = None  #reference the next node in the queue\n",
    "\n",
    "class QueueII:\n",
    "    # intilize head and tail to none, __size to zero\n",
    "    #\n",
    "    def __init__(self):\n",
    "        self.head = None  # head to ref the first node in the queue\n",
    "        self.tail = None  # tail to ref the last node in queue\n",
    "        self.__size = 0   # private variable to store the size of the queue\n",
    "\n",
    "# creates a new node with the provided value and adds it to the end of the queue. updating the tail pointer.\n",
    "def enqueue(self, value):\n",
    "    new_node = Node(value)\n",
    "    if self.head == False\n",
    "        \n",
    "        self.head == new_node\n",
    "        self.tail = new_node\n",
    "    self.__ += 1\n",
    "    "
   ]
  },
  {
   "cell_type": "code",
   "execution_count": 18,
   "id": "d9a74d5d-c228-40f2-879a-abb7fc5d83c6",
   "metadata": {},
   "outputs": [
    {
     "name": "stdout",
     "output_type": "stream",
     "text": [
      "[]\n",
      "['A']\n",
      "['A', 'B']\n",
      "['A', 'B', 'c']\n"
     ]
    }
   ],
   "source": [
    "mylist = []\n",
    "\n",
    "# how states impact what is displayed when i print a python list:\n",
    "#empty list\n",
    "print(mylist)\n",
    "\n",
    "# List with exactly one value\n",
    "mylist.append(\"A\")\n",
    "print(mylist)\n",
    "# List with more than one value\n",
    "mylist.append(\"B\")\n",
    "print(mylist)\n",
    "\n",
    "\n",
    "# help(mylist)\n",
    "\n",
    "mylist.insert(1000, \"c\")\n",
    "print(mylist)\n"
   ]
  },
  {
   "cell_type": "code",
   "execution_count": 16,
   "id": "7e1419ed-6ac1-4886-bbba-577f9d3b2acd",
   "metadata": {},
   "outputs": [],
   "source": [
    "\n",
    "class SinglyLinkedList:\n",
    "    class __Node:\n",
    "        def __init__(self, data):\n",
    "            self.data = data\n",
    "            self.next = None\n",
    "            \n",
    "    def __init__(self):\n",
    "            self.head = None\n",
    "            # challenge for you see if you can have and maintaion a tail ref and how that impacts performance\n",
    "\n",
    "    def append(self, value):\n",
    "        new_node = self.__Node(value)\n",
    "        if not self.head:\n",
    "            self.head = new_node\n",
    "        else:\n",
    "            current = self.head\n",
    "            while current.next:\n",
    "                current = current.next\n",
    "            current.next = new_node\n",
    "\n",
    "    def insert(self, index, value):\n",
    "        pass\n",
    "\n",
    "    def __str__(self):\n",
    "        out = \"[\"\n",
    "        current = self.head\n",
    "        if current:\n",
    "            out += \"%s\" % current.data\n",
    "            current = current.next\n",
    "            while current:\n",
    "                out += \"%s\" % current.data\n",
    "                current = current.next\n",
    "        out += \"]\"\n",
    "        return out\n",
    "        \n"
   ]
  },
  {
   "cell_type": "code",
   "execution_count": 17,
   "id": "2afe1bca-8a48-45d4-a630-15bbe06e02a8",
   "metadata": {},
   "outputs": [
    {
     "name": "stdout",
     "output_type": "stream",
     "text": [
      "[]\n",
      "[A]\n",
      "[AB]\n"
     ]
    }
   ],
   "source": [
    "sll = SinglyLinkedList()\n",
    "\n",
    "# when the list is empty:\n",
    "print(sll)\n",
    "\n",
    "#when the list has 1 node:\n",
    "sll.append(\"A\")\n",
    "print(sll)\n",
    "# when the list has more than one element:\n",
    "sll.append(\"B\")\n",
    "print(sll)\n",
    "\n",
    "\n"
   ]
  },
  {
   "cell_type": "code",
   "execution_count": null,
   "id": "213e2a35-6dd5-499c-bf41-883bb5cd46d5",
   "metadata": {},
   "outputs": [],
   "source": []
  }
 ],
 "metadata": {
  "kernelspec": {
   "display_name": "Python 3 (ipykernel)",
   "language": "python",
   "name": "python3"
  },
  "language_info": {
   "codemirror_mode": {
    "name": "ipython",
    "version": 3
   },
   "file_extension": ".py",
   "mimetype": "text/x-python",
   "name": "python",
   "nbconvert_exporter": "python",
   "pygments_lexer": "ipython3",
   "version": "3.10.12"
  }
 },
 "nbformat": 4,
 "nbformat_minor": 5
}
