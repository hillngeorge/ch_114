{
 "cells": [
  {
   "cell_type": "code",
   "execution_count": 1,
   "id": "5536e3cd-2963-4fea-8a13-d0df4f46158c",
   "metadata": {},
   "outputs": [
    {
     "name": "stdout",
     "output_type": "stream",
     "text": [
      "h\n",
      "e\n",
      "l\n",
      "l\n",
      "o\n",
      ",\n",
      " \n",
      "w\n",
      "o\n",
      "r\n",
      "l\n",
      "d\n",
      "!\n"
     ]
    }
   ],
   "source": [
    "for char in \"hello, world!\":\n",
    "    print(char)"
   ]
  },
  {
   "cell_type": "code",
   "execution_count": 8,
   "id": "3b03c8c4-ff7d-4d37-a570-5a49b14d04fc",
   "metadata": {},
   "outputs": [
    {
     "name": "stdout",
     "output_type": "stream",
     "text": [
      "False\n",
      "True\n",
      "False\n"
     ]
    }
   ],
   "source": [
    "def anagram_check(string1, string2):\n",
    "    string1 = string1.lower()\n",
    "    string2 = string2.lower()\n",
    "\n",
    "    string1 = string1.replace(\" \", \"\")\n",
    "    string2 = string2.replace(\" \", \"\")\n",
    "    \n",
    "\n",
    "    if (len(string1) != len(string2)):\n",
    "        return False\n",
    "\n",
    "\n",
    "    count1 = {}\n",
    "    count2 = {}\n",
    "\n",
    "    for char in string1:\n",
    "        if (char in count1):\n",
    "            count1[char] += 1\n",
    "        else:\n",
    "            \n",
    "            count1[char] = 1\n",
    "\n",
    "    for char in string2:\n",
    "        if (char in count2):\n",
    "            count2[char] += 1\n",
    "\n",
    "        else:\n",
    "            count2[char] = 1\n",
    "\n",
    "\n",
    "    if (count1 == count2):\n",
    "        return True\n",
    "\n",
    "    else:\n",
    "        return False\n",
    "            \n",
    "\n",
    "print(anagram_check(\"Tom Marvalo Riddle\", \"I am Lord Voldemort\"))\n",
    "print(anagram_check(\"anagram\", \"nagaram\"))\n",
    "print(anagram_check(\"rat\", \"car\"))"
   ]
  },
  {
   "cell_type": "code",
   "execution_count": 10,
   "id": "fde8fe8d-e537-45b8-bdc8-30fbb04a2f9f",
   "metadata": {},
   "outputs": [
    {
     "name": "stdout",
     "output_type": "stream",
     "text": [
      "False\n",
      "False\n",
      "False\n"
     ]
    }
   ],
   "source": [
    "from collections import defaultdict\n",
    "\n",
    "def anagram_check(string1, string2):\n",
    "    string1 = string1.lower().replace(\" \", \"\")\n",
    "    string2 = string2.lower().replace(\" \", \"\")\n",
    "\n",
    "    if (len(string1) != len(string2)):\n",
    "        return False\n",
    "\n",
    "    count1 = defaultdict(int) \n",
    "    count2 = defaultdict(int)\n",
    "\n",
    "    for char in string1:\n",
    "        count1[char] += 1\n",
    "\n",
    "    for char in string2:\n",
    "        count2[char] += 1\n",
    "\n",
    "    if (count1 == count2):\n",
    "        return True\n",
    "    else:\n",
    "        return False\n",
    "\n",
    "print(anagram_check(\"Tom Marvalo Riddle\", \"I am Lord Voldemort\"))\n",
    "print(anagram_check(\"anagram\", \"nagram\"))\n",
    "print(anagram_check(\"rat\", \"car\"))\n",
    "\n"
   ]
  },
  {
   "cell_type": "code",
   "execution_count": null,
   "id": "2f71065e-c1a2-4adb-a588-1b709cf96ce2",
   "metadata": {},
   "outputs": [],
   "source": []
  }
 ],
 "metadata": {
  "kernelspec": {
   "display_name": "Python 3 (ipykernel)",
   "language": "python",
   "name": "python3"
  },
  "language_info": {
   "codemirror_mode": {
    "name": "ipython",
    "version": 3
   },
   "file_extension": ".py",
   "mimetype": "text/x-python",
   "name": "python",
   "nbconvert_exporter": "python",
   "pygments_lexer": "ipython3",
   "version": "3.10.12"
  }
 },
 "nbformat": 4,
 "nbformat_minor": 5
}
