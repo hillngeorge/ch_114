{
 "cells": [
  {
   "cell_type": "markdown",
   "id": "89485da5-20d7-4881-9ed4-25ef02a176f2",
   "metadata": {},
   "source": [
    "#problem 1 criteria\n",
    "NxM matrix using doubly linked lists\n",
    "1. create the doubly linked list class\n",
    "2. create a 'matrix' class that internally uses two (or) more instances of 'doublyLinkedList' to prodeuce an NxM matrix\n",
    "3. create methods to re-assign values given 2 coordinates.\n",
    "4.  create methods to set a 'cells' value to zero given two coordinates.\n",
    "## example\n",
    "matrix = Matrix(5, 5) # this should produce a 5 x 5 matrix\n",
    "#When printed, this should display:\n"
   ]
  },
  {
   "cell_type": "code",
   "execution_count": 5,
   "id": "37a9a69f-473a-409f-a9d3-8521e17ab055",
   "metadata": {},
   "outputs": [
    {
     "name": "stdout",
     "output_type": "stream",
     "text": [
      "[0, 0, 0, 0, 0]\n",
      "\n",
      "\n",
      "[0, 0, 0, 0, 0]\n",
      "\n",
      "\n",
      "[0, 0, 0, 0, 0]\n",
      "\n",
      "\n",
      "[0, 0, 0, 0, 0]\n",
      "\n",
      "\n",
      "[0, 0, 0, 0, 0]\n",
      "\n",
      "\n"
     ]
    }
   ],
   "source": [
    "# Demo with pthon lists\n",
    "\n",
    "matrix = []\n",
    "for _ in range(5):\n",
    "    row = []\n",
    "    for _ in range(5):\n",
    "        row.append(0)\n",
    "        matrix.append(row)\n",
    "\n",
    "for n in range(5):\n",
    "    print(matrix[n])\n",
    "    print(\"\\n\")"
   ]
  },
  {
   "cell_type": "code",
   "execution_count": 33,
   "id": "e40db267-07c6-431f-960b-3dca313f8609",
   "metadata": {},
   "outputs": [
    {
     "ename": "IndentationError",
     "evalue": "unindent does not match any outer indentation level (<tokenize>, line 17)",
     "output_type": "error",
     "traceback": [
      "\u001b[0;36m  File \u001b[0;32m<tokenize>:17\u001b[0;36m\u001b[0m\n\u001b[0;31m    if not self.head:\u001b[0m\n\u001b[0m    ^\u001b[0m\n\u001b[0;31mIndentationError\u001b[0m\u001b[0;31m:\u001b[0m unindent does not match any outer indentation level\n"
     ]
    }
   ],
   "source": [
    "class DoublyLinkedList:\n",
    "    class __Node:\n",
    "        def __init__(self, data):\n",
    "            self.data = data\n",
    "            self.next = None\n",
    "            self.prev = None\n",
    "\n",
    "    def __init__(self):\n",
    "            self.head = None\n",
    "            self.tail = None\n",
    "            self.size = 0\n",
    "\n",
    "    def append(self, value):\n",
    "            # create new node instantiate then assign\n",
    "            self.size +=1\n",
    "            new_node = self.__Node(value)\n",
    "        if not self.head:\n",
    "                self.head = new_node\n",
    "                self.tail = new_node\n",
    "                \n",
    "        else:\n",
    "                # current tail node point to new node\n",
    "                self.tail.next = new_node\n",
    "                # for new node set previous pointer to current tail\n",
    "                new_node.prev = self.tail\n",
    "                # update tail to the new node\n",
    "                self.tail = new_node\n",
    "               \n",
    "\n",
    "        def insert(self, index, value):\n",
    "         new_node =self.Node(value)\n",
    "            if index <= 0:\n",
    "                self.head.prev = new_node\n",
    "                new_node.next = self.head\n",
    "                self.head = new_node\n",
    "\n",
    "            elif index > self.size:\n",
    "                self.append(new_node)\n",
    "\n",
    "        else:\n",
    "            current = self.head\n",
    "            for _ in range(index -1):\n",
    "                 current = current.next\n",
    "            old_prev = current.prev\n",
    "            new_node.next = current\n",
    "            current.prev = new_node\n",
    "            old_prev.vext = new_node\n",
    "            new_node.prev + old_prev\n",
    "            self.size += 1\n",
    "            \n",
    "            \n",
    "\n",
    "        def remove(self, value):\n",
    "            current = self.head\n",
    "            prev = None\n",
    "            found = False\n",
    "            while current and not found:\n",
    "                if current .data == value:\n",
    "                    found = True\n",
    "                else:\n",
    "                    prev = current\n",
    "                    current = current.next\n",
    "            if found:\n",
    "                if not prev:\n",
    "                    self.head = self.head.next\n",
    "                else:\n",
    "                    if current == self.tail:\n",
    "                        self.tail = self.tail.prev\n",
    "                    next_node = current.next\n",
    "                    prev.next = next_node\n",
    "                    if next_node:\n",
    "                        next_node.prev = prev\n",
    "                self.size -= 1\n",
    "            else:\n",
    "                raise ValueError(\"Value not found\")\n",
    "                    \n",
    "                    \n",
    "\n",
    "        def index(self, value):\n",
    "            current = self.head\n",
    "            count = 0\n",
    "            found = False\n",
    "            while current.next and not found:\n",
    "                if current .data == value:\n",
    "                    found = True\n",
    "                else:\n",
    "                    current = current.next\n",
    "                    count +=1\n",
    "            if found:\n",
    "                return count\n",
    "            raise ValueError(\"Value not found\")\n",
    "\n",
    "        def search(self, index):\n",
    "            current = self.head\n",
    "            count = 0\n",
    "            found = False\n",
    "            while current.next and not found:\n",
    "                if count == index:\n",
    "                    found = True\n",
    "                else:\n",
    "                    current = current.next\n",
    "                    count += 1\n",
    "                if found:\n",
    "                    return current.data\n",
    "                raise IndexError(\"Index out of bounds\")\n",
    "\n",
    "        def __str__(self):\n",
    "            out = \"[\"\n",
    "            current = self.head\n",
    "            if current:\n",
    "                out += \"%s\" % current.data\n",
    "                current = current.next\n",
    "                while current:\n",
    "                    out += \"%s\" % current.data\n",
    "                    current = current.next\n",
    "            out += \"]\"\n",
    "            return out\n",
    "\n",
    "\n",
    "        \n",
    "        @property\n",
    "        def is_empty(self):\n",
    "            return self.head == 0\n",
    "\n",
    "        #def __getitem__(self, index):\n",
    "            #pass\n",
    "\n",
    "       # def __setitem__(self,index):\n",
    "            #pass\n",
    "            "
   ]
  },
  {
   "cell_type": "code",
   "execution_count": 19,
   "id": "8d11658b-539b-4dad-8614-7788fbb7aa7f",
   "metadata": {},
   "outputs": [
    {
     "ename": "SyntaxError",
     "evalue": "incomplete input (3984875982.py, line 6)",
     "output_type": "error",
     "traceback": [
      "\u001b[0;36m  Cell \u001b[0;32mIn[19], line 6\u001b[0;36m\u001b[0m\n\u001b[0;31m    print(mylist\u001b[0m\n\u001b[0m                ^\u001b[0m\n\u001b[0;31mSyntaxError\u001b[0m\u001b[0;31m:\u001b[0m incomplete input\n"
     ]
    }
   ],
   "source": [
    "mylist = [1, 2, 3]\n",
    "\n",
    "print(mylist[1])\n",
    "\n",
    "mylist[1] = \"A\"\n",
    "print(mylist"
   ]
  },
  {
   "cell_type": "code",
   "execution_count": 23,
   "id": "02577d4b-e8b8-45dd-9011-17792f0b5e65",
   "metadata": {},
   "outputs": [
    {
     "ename": "AttributeError",
     "evalue": "'DoublyLinkedList' object has no attribute 'append'",
     "output_type": "error",
     "traceback": [
      "\u001b[0;31m---------------------------------------------------------------------------\u001b[0m",
      "\u001b[0;31mAttributeError\u001b[0m                            Traceback (most recent call last)",
      "Cell \u001b[0;32mIn[23], line 4\u001b[0m\n\u001b[1;32m      1\u001b[0m dll \u001b[38;5;241m=\u001b[39m DoublyLinkedList()\n\u001b[1;32m      3\u001b[0m \u001b[38;5;28;01mfor\u001b[39;00m i \u001b[38;5;129;01min\u001b[39;00m \u001b[38;5;28mrange\u001b[39m(\u001b[38;5;241m5\u001b[39m):\n\u001b[0;32m----> 4\u001b[0m     \u001b[43mdll\u001b[49m\u001b[38;5;241;43m.\u001b[39;49m\u001b[43mappend\u001b[49m(i)\n\u001b[1;32m      6\u001b[0m \u001b[38;5;28mprint\u001b[39m(dll)\n",
      "\u001b[0;31mAttributeError\u001b[0m: 'DoublyLinkedList' object has no attribute 'append'"
     ]
    }
   ],
   "source": [
    "dll = DoublyLinkedList()\n",
    "\n",
    "for i in range(5):\n",
    "    dll.append(i)\n",
    "\n",
    "print(dll)"
   ]
  },
  {
   "cell_type": "code",
   "execution_count": 25,
   "id": "72f77380-b546-4074-bf7c-014f1172af5f",
   "metadata": {},
   "outputs": [
    {
     "ename": "AttributeError",
     "evalue": "'DoublyLinkedList' object has no attribute 'append'",
     "output_type": "error",
     "traceback": [
      "\u001b[0;31m---------------------------------------------------------------------------\u001b[0m",
      "\u001b[0;31mAttributeError\u001b[0m                            Traceback (most recent call last)",
      "Cell \u001b[0;32mIn[25], line 4\u001b[0m\n\u001b[1;32m      1\u001b[0m dll \u001b[38;5;241m=\u001b[39m DoublyLinkedList()\n\u001b[1;32m      3\u001b[0m \u001b[38;5;28;01mfor\u001b[39;00m i \u001b[38;5;129;01min\u001b[39;00m \u001b[38;5;28mrange\u001b[39m(\u001b[38;5;241m5\u001b[39m):\n\u001b[0;32m----> 4\u001b[0m     \u001b[43mdll\u001b[49m\u001b[38;5;241;43m.\u001b[39;49m\u001b[43mappend\u001b[49m(i)\n\u001b[1;32m      6\u001b[0m dll\u001b[38;5;241m.\u001b[39mappend(\u001b[38;5;241m0\u001b[39m)\n\u001b[1;32m      7\u001b[0m dll\u001b[38;5;241m.\u001b[39minsert(\u001b[38;5;241m100\u001b[39m,\u001b[38;5;241m0\u001b[39m)\n",
      "\u001b[0;31mAttributeError\u001b[0m: 'DoublyLinkedList' object has no attribute 'append'"
     ]
    }
   ],
   "source": [
    "dll = DoublyLinkedList()\n",
    "\n",
    "for i in range(5):\n",
    "    dll.append(i)\n",
    "\n",
    "dll.append(0)\n",
    "dll.insert(100,0)\n",
    "print(dll)\n",
    "print(\"Index %s: %s\" % (5, dll[5]))"
   ]
  },
  {
   "cell_type": "code",
   "execution_count": null,
   "id": "6d035660-4a87-4608-8c3d-fb81b97cbdbb",
   "metadata": {},
   "outputs": [],
   "source": []
  }
 ],
 "metadata": {
  "kernelspec": {
   "display_name": "Python 3 (ipykernel)",
   "language": "python",
   "name": "python3"
  },
  "language_info": {
   "codemirror_mode": {
    "name": "ipython",
    "version": 3
   },
   "file_extension": ".py",
   "mimetype": "text/x-python",
   "name": "python",
   "nbconvert_exporter": "python",
   "pygments_lexer": "ipython3",
   "version": "3.10.12"
  }
 },
 "nbformat": 4,
 "nbformat_minor": 5
}
