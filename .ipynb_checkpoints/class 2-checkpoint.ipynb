{
 "cells": [
  {
   "cell_type": "code",
   "execution_count": 3,
   "id": "ea19bef4-b325-419b-9ad1-f3b54749d55c",
   "metadata": {},
   "outputs": [],
   "source": [
    "# simplified implementation of stack  (using built ins)\n",
    "\n",
    "class Stack:\n",
    "    def __init__(self):\n",
    "        self.items = []\n",
    "\n",
    "    def push(self, value):\n",
    "        self.items.append(value)\n",
    "\n",
    "    def pop(self):\n",
    "        return self.items.pop()\n",
    "\n",
    "    # nice to have methods\n",
    "    def size(self):\n",
    "        return len(self.items)\n",
    "\n",
    "    def peek(self):\n",
    "        return self.items[len(self.items)-1]\n",
    "\n",
    "    def is_empty(self):\n",
    "        return self.items == []\n",
    "    \n",
    "            "
   ]
  },
  {
   "cell_type": "code",
   "execution_count": 4,
   "id": "8fdd550c-4a35-4ccf-ae20-0f69822293c3",
   "metadata": {},
   "outputs": [
    {
     "data": {
      "text/plain": [
       "'G'"
      ]
     },
     "execution_count": 4,
     "metadata": {},
     "output_type": "execute_result"
    }
   ],
   "source": [
    "def invert_str(somestring):\n",
    "    stack = Stack()\n",
    "    for char in somestring:\n",
    "        stack.push(char)\n",
    "        out = \"\"\n",
    "        while not stack.is_empty():\n",
    "            out += stack.pop()\n",
    "            return out\n",
    "invert_str(\"George\")"
   ]
  },
  {
   "cell_type": "code",
   "execution_count": 7,
   "id": "4f4c2d90-141f-461e-87d5-1a25b8dc0582",
   "metadata": {},
   "outputs": [
    {
     "name": "stdout",
     "output_type": "stream",
     "text": [
      "140599750328688\n",
      "140599750328720\n"
     ]
    }
   ],
   "source": [
    "#In python, the primary data types are:\n",
    "# int, bool, float\n",
    "\n",
    "x = 5\n",
    "y = x\n",
    "x += 1\n",
    "\n",
    "print(id(y))\n",
    "\n",
    "print(id(x))"
   ]
  },
  {
   "cell_type": "code",
   "execution_count": 8,
   "id": "ae3ece0e-4f56-452f-9447-176da00040a4",
   "metadata": {},
   "outputs": [
    {
     "name": "stdout",
     "output_type": "stream",
     "text": [
      "140599293011968\n",
      "140599293011968\n"
     ]
    }
   ],
   "source": [
    "# Other data types and structures pass by reference \n",
    "\n",
    "x = [1,2,3]\n",
    "y = x\n",
    "y.append(4)\n",
    "\n",
    "print(id(x))\n",
    "print(id(y))"
   ]
  },
  {
   "cell_type": "code",
   "execution_count": null,
   "id": "c171c09f-4a52-4638-80cb-77e784c2ef88",
   "metadata": {},
   "outputs": [],
   "source": [
    "class StackII:\n",
    "    class __Node:\n",
    "        def __init__(self, data):\n",
    "            self.data = data\n",
    "            self.below = None\n",
    "            \n",
    "    def __init__(self):\n",
    "        self.top = None\n",
    "        \n",
    "    def push(self, value):\n",
    "        new_node self.__Node(value)\n",
    "        if not self.top: # this is the same as \"if self.topp ==None\"\n",
    "            self.top = new_node\n",
    "        else:\n",
    "            new_node.below = self.top\n",
    "            self.top = new_node\n",
    "\n",
    "    def pop(self):\n",
    "        if self.top:\n",
    "            datum = self.top.data\n",
    "            self.top = self.top.below\n",
    "            return datum\n",
    "        raise IndexError(\"Stack is empty\")\n",
    "\n",
    "    # nice to have methods\n",
    "    def size(self):\n",
    "        pass\n",
    "\n",
    "    def peek(self:\n",
    "        pass\n",
    "    \n",
    "    def is_empty(self):\n",
    "        return self.top == None\n",
    "    "
   ]
  }
 ],
 "metadata": {
  "kernelspec": {
   "display_name": "Python 3 (ipykernel)",
   "language": "python",
   "name": "python3"
  },
  "language_info": {
   "codemirror_mode": {
    "name": "ipython",
    "version": 3
   },
   "file_extension": ".py",
   "mimetype": "text/x-python",
   "name": "python",
   "nbconvert_exporter": "python",
   "pygments_lexer": "ipython3",
   "version": "3.10.12"
  }
 },
 "nbformat": 4,
 "nbformat_minor": 5
}
